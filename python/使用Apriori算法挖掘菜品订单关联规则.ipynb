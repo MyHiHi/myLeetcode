{
 "nbformat": 4,
 "nbformat_minor": 2,
 "metadata": {
  "language_info": {
   "name": "python",
   "codemirror_mode": {
    "name": "ipython",
    "version": 3
   },
   "version": "3.7.2-final"
  },
  "orig_nbformat": 2,
  "file_extension": ".py",
  "mimetype": "text/x-python",
  "name": "python",
  "npconvert_exporter": "python",
  "pygments_lexer": "ipython3",
  "version": 3,
  "kernelspec": {
   "name": "python37264bit976359a467c3400289726740d00d4381",
   "display_name": "Python 3.7.2 64-bit"
  }
 },
 "cells": [
  {
   "cell_type": "code",
   "execution_count": 3,
   "metadata": {},
   "outputs": [
    {
     "output_type": "execute_result",
     "data": {
      "text/plain": "   0  1    2    3\n0  a  c    e  NaN\n1  b  d  NaN  NaN\n2  b  c  NaN  NaN\n3  a  b    c    d\n4  a  b  NaN  NaN\n5  b  c  NaN  NaN\n6  a  b  NaN  NaN\n7  a  b    c    e\n8  a  b    c  NaN\n9  a  c    e  NaN",
      "text/html": "<div>\n<style scoped>\n    .dataframe tbody tr th:only-of-type {\n        vertical-align: middle;\n    }\n\n    .dataframe tbody tr th {\n        vertical-align: top;\n    }\n\n    .dataframe thead th {\n        text-align: right;\n    }\n</style>\n<table border=\"1\" class=\"dataframe\">\n  <thead>\n    <tr style=\"text-align: right;\">\n      <th></th>\n      <th>0</th>\n      <th>1</th>\n      <th>2</th>\n      <th>3</th>\n    </tr>\n  </thead>\n  <tbody>\n    <tr>\n      <th>0</th>\n      <td>a</td>\n      <td>c</td>\n      <td>e</td>\n      <td>NaN</td>\n    </tr>\n    <tr>\n      <th>1</th>\n      <td>b</td>\n      <td>d</td>\n      <td>NaN</td>\n      <td>NaN</td>\n    </tr>\n    <tr>\n      <th>2</th>\n      <td>b</td>\n      <td>c</td>\n      <td>NaN</td>\n      <td>NaN</td>\n    </tr>\n    <tr>\n      <th>3</th>\n      <td>a</td>\n      <td>b</td>\n      <td>c</td>\n      <td>d</td>\n    </tr>\n    <tr>\n      <th>4</th>\n      <td>a</td>\n      <td>b</td>\n      <td>NaN</td>\n      <td>NaN</td>\n    </tr>\n    <tr>\n      <th>5</th>\n      <td>b</td>\n      <td>c</td>\n      <td>NaN</td>\n      <td>NaN</td>\n    </tr>\n    <tr>\n      <th>6</th>\n      <td>a</td>\n      <td>b</td>\n      <td>NaN</td>\n      <td>NaN</td>\n    </tr>\n    <tr>\n      <th>7</th>\n      <td>a</td>\n      <td>b</td>\n      <td>c</td>\n      <td>e</td>\n    </tr>\n    <tr>\n      <th>8</th>\n      <td>a</td>\n      <td>b</td>\n      <td>c</td>\n      <td>NaN</td>\n    </tr>\n    <tr>\n      <th>9</th>\n      <td>a</td>\n      <td>c</td>\n      <td>e</td>\n      <td>NaN</td>\n    </tr>\n  </tbody>\n</table>\n</div>"
     },
     "metadata": {},
     "execution_count": 3
    }
   ],
   "source": [
    "import pandas as pd \n",
    "data=pd.read_excel(r'D:\\Documents\\myCode\\Python DataAnalysis\\chapter5\\demo\\data\\menu_orders.xls',header=None)\n",
    "data"
   ]
  },
  {
   "cell_type": "code",
   "execution_count": 4,
   "metadata": {},
   "outputs": [
    {
     "output_type": "execute_result",
     "data": {
      "text/plain": "     a    c    e    b    d\n0  1.0  1.0  1.0  0.0  0.0\n1  0.0  0.0  0.0  1.0  1.0\n2  0.0  1.0  0.0  1.0  0.0\n3  1.0  1.0  0.0  1.0  1.0\n4  1.0  0.0  0.0  1.0  0.0\n5  0.0  1.0  0.0  1.0  0.0\n6  1.0  0.0  0.0  1.0  0.0\n7  1.0  1.0  1.0  1.0  0.0\n8  1.0  1.0  0.0  1.0  0.0\n9  1.0  1.0  1.0  0.0  0.0",
      "text/html": "<div>\n<style scoped>\n    .dataframe tbody tr th:only-of-type {\n        vertical-align: middle;\n    }\n\n    .dataframe tbody tr th {\n        vertical-align: top;\n    }\n\n    .dataframe thead th {\n        text-align: right;\n    }\n</style>\n<table border=\"1\" class=\"dataframe\">\n  <thead>\n    <tr style=\"text-align: right;\">\n      <th></th>\n      <th>a</th>\n      <th>c</th>\n      <th>e</th>\n      <th>b</th>\n      <th>d</th>\n    </tr>\n  </thead>\n  <tbody>\n    <tr>\n      <th>0</th>\n      <td>1.0</td>\n      <td>1.0</td>\n      <td>1.0</td>\n      <td>0.0</td>\n      <td>0.0</td>\n    </tr>\n    <tr>\n      <th>1</th>\n      <td>0.0</td>\n      <td>0.0</td>\n      <td>0.0</td>\n      <td>1.0</td>\n      <td>1.0</td>\n    </tr>\n    <tr>\n      <th>2</th>\n      <td>0.0</td>\n      <td>1.0</td>\n      <td>0.0</td>\n      <td>1.0</td>\n      <td>0.0</td>\n    </tr>\n    <tr>\n      <th>3</th>\n      <td>1.0</td>\n      <td>1.0</td>\n      <td>0.0</td>\n      <td>1.0</td>\n      <td>1.0</td>\n    </tr>\n    <tr>\n      <th>4</th>\n      <td>1.0</td>\n      <td>0.0</td>\n      <td>0.0</td>\n      <td>1.0</td>\n      <td>0.0</td>\n    </tr>\n    <tr>\n      <th>5</th>\n      <td>0.0</td>\n      <td>1.0</td>\n      <td>0.0</td>\n      <td>1.0</td>\n      <td>0.0</td>\n    </tr>\n    <tr>\n      <th>6</th>\n      <td>1.0</td>\n      <td>0.0</td>\n      <td>0.0</td>\n      <td>1.0</td>\n      <td>0.0</td>\n    </tr>\n    <tr>\n      <th>7</th>\n      <td>1.0</td>\n      <td>1.0</td>\n      <td>1.0</td>\n      <td>1.0</td>\n      <td>0.0</td>\n    </tr>\n    <tr>\n      <th>8</th>\n      <td>1.0</td>\n      <td>1.0</td>\n      <td>0.0</td>\n      <td>1.0</td>\n      <td>0.0</td>\n    </tr>\n    <tr>\n      <th>9</th>\n      <td>1.0</td>\n      <td>1.0</td>\n      <td>1.0</td>\n      <td>0.0</td>\n      <td>0.0</td>\n    </tr>\n  </tbody>\n</table>\n</div>"
     },
     "metadata": {},
     "execution_count": 4
    }
   ],
   "source": [
    "ct=lambda x:pd.Series(1,index=x[pd.notnull(x)])\n",
    "d=map(ct,data.as_matrix())\n",
    "d=list(d)\n",
    "d=pd.DataFrame(d).fillna(0)\n",
    "d"
   ]
  },
  {
   "cell_type": "code",
   "execution_count": 5,
   "metadata": {},
   "outputs": [],
   "source": [
    "support=0.2\n",
    "confidence=0.5\n",
    "from apriori import *"
   ]
  },
  {
   "cell_type": "code",
   "execution_count": 6,
   "metadata": {},
   "outputs": [
    {
     "output_type": "stream",
     "name": "stdout",
     "text": "\n正在进行第1次搜索...\n数目：6...\n\n正在进行第2次搜索...\n数目：3...\n\n正在进行第3次搜索...\n数目：0...\n\n结果为：\n         support  confidence\ne--a         0.3    1.000000\ne--c         0.3    1.000000\nc--e--a      0.3    1.000000\na--e--c      0.3    1.000000\nc--a         0.5    0.714286\na--c         0.5    0.714286\na--b         0.5    0.714286\nc--b         0.5    0.714286\nb--a         0.5    0.625000\nb--c         0.5    0.625000\na--c--e      0.3    0.600000\nb--c--a      0.3    0.600000\na--c--b      0.3    0.600000\na--b--c      0.3    0.600000\n"
    },
    {
     "output_type": "execute_result",
     "data": {
      "text/plain": "         support  confidence\ne--a         0.3    1.000000\ne--c         0.3    1.000000\nc--e--a      0.3    1.000000\na--e--c      0.3    1.000000\nc--a         0.5    0.714286\na--c         0.5    0.714286\na--b         0.5    0.714286\nc--b         0.5    0.714286\nb--a         0.5    0.625000\nb--c         0.5    0.625000\na--c--e      0.3    0.600000\nb--c--a      0.3    0.600000\na--c--b      0.3    0.600000\na--b--c      0.3    0.600000",
      "text/html": "<div>\n<style scoped>\n    .dataframe tbody tr th:only-of-type {\n        vertical-align: middle;\n    }\n\n    .dataframe tbody tr th {\n        vertical-align: top;\n    }\n\n    .dataframe thead th {\n        text-align: right;\n    }\n</style>\n<table border=\"1\" class=\"dataframe\">\n  <thead>\n    <tr style=\"text-align: right;\">\n      <th></th>\n      <th>support</th>\n      <th>confidence</th>\n    </tr>\n  </thead>\n  <tbody>\n    <tr>\n      <th>e--a</th>\n      <td>0.3</td>\n      <td>1.000000</td>\n    </tr>\n    <tr>\n      <th>e--c</th>\n      <td>0.3</td>\n      <td>1.000000</td>\n    </tr>\n    <tr>\n      <th>c--e--a</th>\n      <td>0.3</td>\n      <td>1.000000</td>\n    </tr>\n    <tr>\n      <th>a--e--c</th>\n      <td>0.3</td>\n      <td>1.000000</td>\n    </tr>\n    <tr>\n      <th>c--a</th>\n      <td>0.5</td>\n      <td>0.714286</td>\n    </tr>\n    <tr>\n      <th>a--c</th>\n      <td>0.5</td>\n      <td>0.714286</td>\n    </tr>\n    <tr>\n      <th>a--b</th>\n      <td>0.5</td>\n      <td>0.714286</td>\n    </tr>\n    <tr>\n      <th>c--b</th>\n      <td>0.5</td>\n      <td>0.714286</td>\n    </tr>\n    <tr>\n      <th>b--a</th>\n      <td>0.5</td>\n      <td>0.625000</td>\n    </tr>\n    <tr>\n      <th>b--c</th>\n      <td>0.5</td>\n      <td>0.625000</td>\n    </tr>\n    <tr>\n      <th>a--c--e</th>\n      <td>0.3</td>\n      <td>0.600000</td>\n    </tr>\n    <tr>\n      <th>b--c--a</th>\n      <td>0.3</td>\n      <td>0.600000</td>\n    </tr>\n    <tr>\n      <th>a--c--b</th>\n      <td>0.3</td>\n      <td>0.600000</td>\n    </tr>\n    <tr>\n      <th>a--b--c</th>\n      <td>0.3</td>\n      <td>0.600000</td>\n    </tr>\n  </tbody>\n</table>\n</div>"
     },
     "metadata": {},
     "execution_count": 6
    }
   ],
   "source": [
    "find_rule(d,support,confidence)"
   ]
  }
 ]
}